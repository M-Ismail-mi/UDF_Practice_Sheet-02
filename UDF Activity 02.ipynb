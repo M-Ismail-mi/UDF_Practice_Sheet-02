{
 "cells": [
  {
   "cell_type": "markdown",
   "metadata": {},
   "source": [
    "# Python User Define Function Practice Activity - 2 "
   ]
  },
  {
   "cell_type": "markdown",
   "metadata": {},
   "source": [
    "Asst. Prof. Syed Faisal Ali              $\\;\\;\\;\\;\\;\\;$              Programming Fundamentals - FALL 2019 $\\;\\;\\;\\;\\;\\;$ Software Engineering                     $\\;\\;\\;\\;\\;\\;$                   Dated: 27 Nov 2019"
   ]
  },
  {
   "cell_type": "markdown",
   "metadata": {},
   "source": [
    "Question 1: Create a function to find the following:\n",
    "If the base of triangle is 3 cm long and its equilateral triangle and the radius of circle is 1.5 cm then find the area of triangle shaded. \n"
   ]
  },
  {
   "cell_type": "markdown",
   "metadata": {},
   "source": [
    "![proj](q1.jpg)"
   ]
  },
  {
   "cell_type": "code",
   "execution_count": 6,
   "metadata": {},
   "outputs": [
    {
     "name": "stdout",
     "output_type": "stream",
     "text": [
      "Area of Triangle: 60.75cm²\n",
      "Area of shaded Triangle: 53.68cm²\n"
     ]
    }
   ],
   "source": [
    "# Time= 8 min\n",
    "from math import pi\n",
    "def triangle():\n",
    "    height= 3**2 - 1.5**2\n",
    "    base= 3\n",
    "    areaT= (1/2 * height * base) * 6\n",
    "    print(\"Area of Triangle: {0:.{1}f}cm\\u00b2\".format(areaT,2))\n",
    "    \n",
    "    areaC= pi * 1.5**2 #radius\n",
    "    areaS= areaT - areaC\n",
    "    print(\"Area of shaded Triangle: {0:.{1}f}cm\\u00b2\".format(areaS,2))\n",
    "triangle()\n"
   ]
  },
  {
   "cell_type": "markdown",
   "metadata": {},
   "source": [
    "Question 2: Create a function which can read a dictionary of your family members such as 5 members. \n",
    "1 Abbu, 1 Ammi, 2 Brothers 1 Sister. Now feed this data in dictionary in terms of name and relations.\n",
    "The UDF will ask findrelation() in this you will enter Brother it will return the names of two brothers you have inserted. In case if the relation is not found it will return “Sorry the relation doesn’t exist in your family.” \n"
   ]
  },
  {
   "cell_type": "code",
   "execution_count": 14,
   "metadata": {},
   "outputs": [
    {
     "name": "stdout",
     "output_type": "stream",
     "text": [
      "Ibrahim,Wahab\n"
     ]
    }
   ],
   "source": [
    "# Time= 6 min\n",
    "def findrelation(x):\n",
    "    relation= {\"Mother\":\"Razia\",\"Father\":\"Naseem\",\"Brother\":\"Ibrahim,Wahab\",\"Sister\":\"Maryam\"}\n",
    "   \n",
    "    if x in relation:\n",
    "            print(relation[x])\n",
    "findrelation('Brother')"
   ]
  },
  {
   "cell_type": "markdown",
   "metadata": {},
   "source": [
    "Question 3: Create a function to find the following:\n",
    "If the base of triangle is 5 cm long and its equilateral triangle and the radius of circle is 2.25 cm then find the area of triangle shaded. \n"
   ]
  },
  {
   "cell_type": "markdown",
   "metadata": {},
   "source": [
    "![proj](q3.jpg)"
   ]
  },
  {
   "cell_type": "code",
   "execution_count": 15,
   "metadata": {},
   "outputs": [
    {
     "name": "stdout",
     "output_type": "stream",
     "text": [
      "Area of shaded Part: 15.90cm²\n"
     ]
    }
   ],
   "source": [
    "# time= 2 min\n",
    "from math import pi\n",
    "def triangle(): \n",
    "    areaC= pi * 2.25**2 #radius\n",
    "    print(\"Area of shaded Part: {0:.{1}f}cm\\u00b2\".format(areaC,2))\n",
    "triangle()\n"
   ]
  },
  {
   "cell_type": "markdown",
   "metadata": {},
   "source": [
    "Question 4:\n",
    "Create a function that takes a list of random numbers from users and add only those which are even. If all the numbers are odd it will return sorry no even number found.\n"
   ]
  },
  {
   "cell_type": "code",
   "execution_count": 20,
   "metadata": {},
   "outputs": [
    {
     "name": "stdout",
     "output_type": "stream",
     "text": [
      "Enter Number1\n",
      "Enter Number2\n",
      "Enter Number3\n",
      "Enter Number4\n",
      "Enter Number5\n",
      "Enter Number6\n",
      "Sum of even numbers is: 12\n"
     ]
    }
   ],
   "source": [
    "# Time= 8 mins\n",
    "def even():\n",
    "    num=[0,0,0,0,0,0]\n",
    "    add=0\n",
    "    for i in range(6):\n",
    "        num[i]=int(input(\"Enter Number\"))\n",
    "    for x in num:\n",
    "        if x%2==0:\n",
    "            add= add+x\n",
    "    if add==0:\n",
    "        print(\"Sorry No Even Number is Found\")\n",
    "    print(\"Sum of even numbers is:\",add)\n",
    "even()"
   ]
  },
  {
   "cell_type": "markdown",
   "metadata": {},
   "source": [
    "Question 5:\n",
    "Write a function which can take a list of numbers and it will return sorted list.\n"
   ]
  },
  {
   "cell_type": "code",
   "execution_count": 22,
   "metadata": {},
   "outputs": [
    {
     "name": "stdout",
     "output_type": "stream",
     "text": [
      "Enter the Number1\n",
      "Enter the Number2\n",
      "Enter the Number4\n",
      "Enter the Number9\n",
      "Enter the Number3\n",
      "Enter the Number7\n",
      "[1, 2, 3, 4, 7, 9]\n"
     ]
    }
   ],
   "source": [
    "# time= 3.5 min\n",
    "def sort():\n",
    "    num=[0,0,0,0,0,0]\n",
    "    add=0\n",
    "    for i in range(6):\n",
    "        num[i]=eval(input(\"Enter the Number\"))\n",
    "    num.sort()\n",
    "    print(num)\n",
    "sort()"
   ]
  },
  {
   "cell_type": "markdown",
   "metadata": {},
   "source": [
    "Question 6:\n",
    "Write a function that will take the radius and return the perimeter and area of circle with 5% increment.\n"
   ]
  },
  {
   "cell_type": "code",
   "execution_count": 25,
   "metadata": {},
   "outputs": [
    {
     "name": "stdout",
     "output_type": "stream",
     "text": [
      "Enter Radius5\n",
      "The area of Circle with 5% increment is 82.47cm²\n",
      "The perimeter of Circle with 5% increment is 32.99cm²\n"
     ]
    }
   ],
   "source": [
    "# Time= 5 min\n",
    "from math import pi\n",
    "def circle():\n",
    "    rad=eval(input(\"Enter Radius\"))\n",
    "    area= (pi * rad**2) * 1.05\n",
    "    perimeter= (2 * pi * rad) * 1.05\n",
    "    print(\"The area of Circle with 5% increment is {0:.{1}f}cm\\u00b2\".format(area,2))\n",
    "    print(\"The perimeter of Circle with 5% increment is {0:.{1}f}cm\\u00b2\".format(perimeter,2))\n",
    "circle()"
   ]
  },
  {
   "cell_type": "markdown",
   "metadata": {},
   "source": [
    "Question 7:\n",
    "Write a function that will take the strings as argument and return number of vowels and consonants.\n"
   ]
  },
  {
   "cell_type": "code",
   "execution_count": 28,
   "metadata": {},
   "outputs": [
    {
     "name": "stdout",
     "output_type": "stream",
     "text": [
      "Enter StringMuhammad Ismail Mian\n",
      "Number of vowels=  8\n",
      "Number of consstants=  12\n"
     ]
    }
   ],
   "source": [
    "# Time= 4 mins\n",
    "def vowels():\n",
    "    vow=input(\"Enter String\")\n",
    "    count=0\n",
    "    add=0\n",
    "    for i in vow:\n",
    "        if i in 'AEIOUaeiou':\n",
    "            count=count+1\n",
    "        else:\n",
    "            add=add+1\n",
    "    print(\"Number of vowels= \",count)\n",
    "    print(\"Number of consstants= \",add)\n",
    "vowels()"
   ]
  },
  {
   "cell_type": "markdown",
   "metadata": {},
   "source": [
    "Question 8:\n",
    "Write a function that will take length and breadth for a rectangle and return perimeter and area of rectangle with 8% increment.\n"
   ]
  },
  {
   "cell_type": "code",
   "execution_count": 29,
   "metadata": {},
   "outputs": [
    {
     "name": "stdout",
     "output_type": "stream",
     "text": [
      "Enter Lenght5\n",
      "Enter Breadth7\n",
      "The area of Rectangle with 8% increment is 37.80cm²\n",
      "The perimeter of Rectangle with 8% increment is 75.60cm²\n"
     ]
    }
   ],
   "source": [
    "# Time= 3 min\n",
    "def rectangle():\n",
    "    lenght=eval(input(\"Enter Lenght\"))\n",
    "    breadth=eval(input(\"Enter Breadth\"))\n",
    "    area= (lenght * breadth) * 1.08\n",
    "    perimeter= ((lenght * breadth)* 2) * 1.08\n",
    "    print(\"The area of Rectangle with 8% increment is {0:.{1}f}cm\\u00b2\".format(area,2))\n",
    "    print(\"The perimeter of Rectangle with 8% increment is {0:.{1}f}cm\\u00b2\".format(perimeter,2))\n",
    "rectangle()"
   ]
  },
  {
   "cell_type": "markdown",
   "metadata": {},
   "source": [
    "Question 9:\n",
    "Write a function that can take the numbers in strings. From string find which number is even and which one is odd. Save them in two different lists and generate the result.\n"
   ]
  },
  {
   "cell_type": "code",
   "execution_count": 36,
   "metadata": {},
   "outputs": [
    {
     "name": "stdout",
     "output_type": "stream",
     "text": [
      "Enter Number1\n",
      "Enter Number2\n",
      "Enter Number3\n",
      "Enter Number4\n",
      "Enter Number5\n",
      "Enter Number6\n",
      "Even Numbers [2, 4, 6]\n",
      "odd Numbers [1, 3, 5]\n"
     ]
    }
   ],
   "source": [
    "def number():\n",
    "    num=[0,0,0,0,0,0]\n",
    "    even=[]\n",
    "    odd=[]\n",
    "    for i in range(6):\n",
    "        num[i]= int(input(\"Enter Number\"))\n",
    "    for i in num:\n",
    "        if i%2==0:\n",
    "            x=even.append(i)\n",
    "        else:\n",
    "            y=odd.append(i)\n",
    "    print('Even Numbers',even)\n",
    "    print('odd Numbers',odd)\n",
    "number()"
   ]
  },
  {
   "cell_type": "markdown",
   "metadata": {},
   "source": [
    "Question 10:\n",
    "Write a function which will take the string from the user and return how many alphabets have been used in it and which alphabets are missing.\n"
   ]
  },
  {
   "cell_type": "code",
   "execution_count": 12,
   "metadata": {},
   "outputs": [
    {
     "name": "stdout",
     "output_type": "stream",
     "text": [
      "Enter String: abdul wahab\n",
      "Alphabets used 7 ['a', 'b', 'd', 'u', 'l', 'w', 'h']\n",
      "Alphabets that are not used ['c', 'e', 'f', 'g', 'i', 'j', 'k', 'm', 'n', 'o', 'p', 'q', 'r', 's', 't', 'v', 'x', 'y', 'z']\n"
     ]
    }
   ],
   "source": [
    "# Time= 15 mins\n",
    "def alphabet():\n",
    "    alphabets=['a','b','c','d','e','f','g','h','i','j','k','l','m','n','o','p','q','r','s','t','u','v','w','x','y','z']\n",
    "    string= input(\"Enter String: \")\n",
    "    x=[]\n",
    "    count=0\n",
    "    for i in string:\n",
    "        if i in alphabets and i not in x:\n",
    "            count = count+1\n",
    "            y=x.append(i)\n",
    "            alphabets.remove(i)\n",
    "    print(\"Alphabets used\",count,x)\n",
    "    print(\"Alphabets that are not used\",alphabets)\n",
    "alphabet()"
   ]
  },
  {
   "cell_type": "markdown",
   "metadata": {},
   "source": [
    "Question 11:\n",
    "Write a function that will take verbs in words and return a list of verbs with continuous tense by adding (ing) at the end of each verb.\n"
   ]
  },
  {
   "cell_type": "code",
   "execution_count": 38,
   "metadata": {
    "scrolled": true
   },
   "outputs": [
    {
     "name": "stdout",
     "output_type": "stream",
     "text": [
      "Enter Verb: eat\n",
      "Enter Verb: sleep\n",
      "Enter Verb: repeat\n",
      "['eating', 'sleeping', 'repeating']\n"
     ]
    }
   ],
   "source": [
    "# Time= 15 mins\n",
    "def verb():\n",
    "    \n",
    "    verb=['','','']\n",
    "    y=['','','']\n",
    "    for z in range(3):\n",
    "        verb[z]=input(\"Enter Verb: \")\n",
    "    k=0\n",
    "    for i in verb:\n",
    "        y[k]= i + \"ing\"\n",
    "        k=k+1\n",
    "        \n",
    "    print(y)\n",
    "verb()"
   ]
  },
  {
   "cell_type": "markdown",
   "metadata": {},
   "source": [
    "Question 12:\n",
    "Make a function which can take two radius of circles and find the areas of it and subtract smaller one from larger one and tell the remaining area of circle.\n"
   ]
  },
  {
   "cell_type": "code",
   "execution_count": 40,
   "metadata": {},
   "outputs": [
    {
     "name": "stdout",
     "output_type": "stream",
     "text": [
      "Enter Radius  of First Circle : 6\n",
      "Enter radius of Second Circle: 8\n",
      "Area of First Circle = 113.10cm²\n",
      "Area of Second Circle = 201.06cm²\n",
      "Subtracting Area of Second Circle from Area of First Circle so Remaining Area is 87.96cm²\n"
     ]
    }
   ],
   "source": [
    "from math import pi\n",
    "def circle():\n",
    "    rad_1=int(input(\"Enter Radius  of First Circle : \"))\n",
    "    rad_2=int(input(\"Enter radius of Second Circle: \"))\n",
    "    \n",
    "    area_1 = pi * rad_1**2\n",
    "    print(\"Area of First Circle = {0:.{1}f}cm\\u00b2\".format(area_1,2))\n",
    "    area_2 = pi * rad_2**2\n",
    "    print(\"Area of Second Circle = {0:.{1}f}cm\\u00b2\".format(area_2,2))\n",
    "    \n",
    "    if area_1 > area_2 :\n",
    "        subtract = area_1 - area_2\n",
    "        print(\"Subtracting Area of First Circle from Area of Second Circle so Remaining Area is {0:.{1}f}cm\\u00b2\".format(subtract,2))\n",
    "    elif area_1 < area_2 :\n",
    "        subtracting = area_2 - area_1\n",
    "        print(\"Subtracting Area of Second Circle from Area of First Circle so Remaining Area is {0:.{1}f}cm\\u00b2\".format(subtracting,2))\n",
    "circle()"
   ]
  },
  {
   "cell_type": "markdown",
   "metadata": {},
   "source": [
    "Question 13:\n",
    "Write a function that will take a string and calculate number of Upper case letters and lower case letters.\n"
   ]
  },
  {
   "cell_type": "code",
   "execution_count": 41,
   "metadata": {},
   "outputs": [
    {
     "name": "stdout",
     "output_type": "stream",
     "text": [
      "Enter a String : MuhAmmad IsMail MiAn\n",
      "Total Number of Uppercase in String is:  12\n",
      "Total Number of Lowercase in string is :  6\n"
     ]
    }
   ],
   "source": [
    "# Time= 5 mins\n",
    "def count():\n",
    "    count = 0\n",
    "    total = 0\n",
    "    string = input(\"Enter a String : \")\n",
    "    \n",
    "    for i in string:\n",
    "        if i in 'ABCDEFGHIJKLMNOPQRSTUVWXYZ':\n",
    "            count = count + 1\n",
    "        else:\n",
    "            if i in 'abbcdefghijklmnopqrstuvwxyz':\n",
    "                total = total + 1\n",
    "    print(\"Total Number of Uppercase in String is: \",total)\n",
    "    print(\"Total Number of Lowercase in string is : \",count)\n",
    "count()"
   ]
  },
  {
   "cell_type": "markdown",
   "metadata": {},
   "source": [
    "Question 14:\n",
    "Write a function which will take length and breadth of two rectangles. Subtract the smaller rectangle from the larger rectangle and return the area left behind.\n"
   ]
  },
  {
   "cell_type": "code",
   "execution_count": 42,
   "metadata": {},
   "outputs": [
    {
     "name": "stdout",
     "output_type": "stream",
     "text": [
      "Enter Length of First Rectangle : 5\n",
      "Enter Bredth of Second Rectangle : 9\n",
      "Enter Length of First Rectangle : 4\n",
      "Enter Bredth of Second Rectangle : 7\n",
      "Area of Bigger Rectangle subtracted from Smaller Rectangle : 17.00cm²\n"
     ]
    }
   ],
   "source": [
    "def area():\n",
    "    len_1=eval(input(\"Enter Length of First Rectangle : \"))\n",
    "    brea_1=eval(input(\"Enter Bredth of Second Rectangle : \"))\n",
    "    len_2=eval(input(\"Enter Length of First Rectangle : \"))\n",
    "    brea_2=eval(input(\"Enter Bredth of Second Rectangle : \"))\n",
    "    area1 = len_1*brea_1\n",
    "    area2 = len_2*brea_2\n",
    "    if area1 > area2:\n",
    "        Remaining = area1-area2\n",
    "        print(\"Area of Bigger Rectangle subtracted from Smaller Rectangle : {0:.{1}f}cm\\u00b2\".format(Remaining,2))\n",
    "    elif area2 > area1:\n",
    "        Remaining = area2-area1\n",
    "        print(\"Area of Bigger Rectangle subtracted from Smaller Rectangle : {0:.{1}f}cm\\u00b2\".format(Remaining,2))  \n",
    "area()"
   ]
  },
  {
   "cell_type": "markdown",
   "metadata": {},
   "source": [
    "Question 15:\n",
    "Create a function that can add the fractions in series such as 1 to 8 = 1/8+1/7+1/6+1/5 …… ½ and return the result in fraction not in decimal.\n"
   ]
  },
  {
   "cell_type": "code",
   "execution_count": 44,
   "metadata": {},
   "outputs": [
    {
     "name": "stdout",
     "output_type": "stream",
     "text": [
      "363/140\n"
     ]
    }
   ],
   "source": [
    "def fraction():\n",
    "    from fractions import Fraction\n",
    "    sum = 0\n",
    "    for i in range(1,8):\n",
    "        sum = sum + Fraction(1,i) \n",
    "    print(sum)\n",
    "fraction()"
   ]
  },
  {
   "cell_type": "markdown",
   "metadata": {},
   "source": [
    "Question 16:\n",
    "Write a function which will take height and base for a triangle and \n"
   ]
  },
  {
   "cell_type": "code",
   "execution_count": null,
   "metadata": {},
   "outputs": [],
   "source": []
  },
  {
   "cell_type": "markdown",
   "metadata": {},
   "source": [
    "Question 17:\n",
    "Write a function which will take a list of fruits names. The function will return how many alphabets are repetitive in the names of fruits and how many are unique letters.\n"
   ]
  },
  {
   "cell_type": "code",
   "execution_count": 46,
   "metadata": {},
   "outputs": [
    {
     "name": "stdout",
     "output_type": "stream",
     "text": [
      "Enter Fruit Name : orange\n",
      "Enter Fruit Name : grapes\n",
      "Enter Fruit Name : pineapple\n",
      "Enter Fruit Name : papaya\n",
      "Number of Unique Letter :  4\n",
      "Number of Repetitive Letter :  23\n"
     ]
    }
   ],
   "source": [
    "def count():\n",
    "    k = ['']\n",
    "    count = 0\n",
    "    total = 0\n",
    "    fruits=['','','','']\n",
    "    for i in range(4):\n",
    "        fruits[i]=input(\"Enter Fruit Name : \")\n",
    "    for i in fruits:\n",
    "        for x in i :\n",
    "            if i in k:\n",
    "                count = count + 1 \n",
    "            if i not in k:\n",
    "                k.append(i)\n",
    "                total = total + 1 \n",
    "    print(\"Number of Unique Letter : \",total)\n",
    "    print(\"Number of Repetitive Letter : \",count)\n",
    "count()"
   ]
  },
  {
   "cell_type": "markdown",
   "metadata": {},
   "source": [
    "Question 18:\n",
    "Write a function that can take square length and radius of circle. Find the area of both and subtract the smallest shape from largest one and return the remaining shape area.\n"
   ]
  },
  {
   "cell_type": "code",
   "execution_count": null,
   "metadata": {},
   "outputs": [],
   "source": [
    "from math import pi\n",
    "def RemainingArea():\n",
    "    length=eval(input(\"Enter length of Square : \"))\n",
    "    radius=eval(input(\"Enter radius of Circle : \"))\n",
    "    Asquare = 2 * length\n",
    "    print(\"Area of Square = {0:.{1}f}cm\\u00b2\".format(Asquare,2))\n",
    "    Acircle = pi * radius**2\n",
    "    print(\"Area of Circle = {0:.{1}f}cm\\u00b2\".format(Acircle,2))\n",
    "    \n",
    "    if Asquare > Acircle :\n",
    "        Remaining = Asquare-Acircle\n",
    "        print(\"Subtracting Area of Circle from Area of Square , Remaining Area is {0:.{1}f}cm\\u00b2\".format(Remaining,2))\n",
    "    elif Acircle > Asquare :\n",
    "        Remaining = Acircle-Asquare\n",
    "        print(\"Subtracting Area of Square from Area of Circle , Remaining Area is {0:.{1}f}cm\\u00b2\".format(Remaining,2))\n",
    "RemainingArea()"
   ]
  }
 ],
 "metadata": {
  "kernelspec": {
   "display_name": "Python 3",
   "language": "python",
   "name": "python3"
  },
  "language_info": {
   "codemirror_mode": {
    "name": "ipython",
    "version": 3
   },
   "file_extension": ".py",
   "mimetype": "text/x-python",
   "name": "python",
   "nbconvert_exporter": "python",
   "pygments_lexer": "ipython3",
   "version": "3.7.3"
  }
 },
 "nbformat": 4,
 "nbformat_minor": 2
}
